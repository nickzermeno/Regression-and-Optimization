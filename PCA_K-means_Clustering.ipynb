{
 "cells": [
  {
   "cell_type": "markdown",
   "metadata": {},
   "source": [
    "# MATH 382 - Fall 2021\n",
    "## Scientific Computing\n",
    "Nicholas Zermeno\n",
    "\n",
    "<hr>\n",
    "\n",
    "# Final Project: PCA and K-means Clustering\n",
    "\n",
    "<hr>\n"
   ]
  },
  {
   "cell_type": "code",
   "execution_count": 4,
   "metadata": {
    "scrolled": true
   },
   "outputs": [],
   "source": [
    "import numpy as np\n",
    "from numpy import linalg as LA\n",
    "import matplotlib as mpl\n",
    "import matplotlib.pyplot as plt\n",
    "import matplotlib.image as mpimg\n",
    "import math\n",
    "import time\n",
    "\n",
    "import random as rnd"
   ]
  },
  {
   "cell_type": "code",
   "execution_count": 5,
   "metadata": {},
   "outputs": [
    {
     "name": "stdout",
     "output_type": "stream",
     "text": [
      "data shape: (210, 8)\n"
     ]
    }
   ],
   "source": [
    "data = np.loadtxt('../math382_final/data/seeds_dataset.txt')\n",
    "n, d1 = data.shape\n",
    "d = d1 - 1\n",
    "\n",
    "X = data[:,0:d]\n",
    "print('data shape:', data.shape)"
   ]
  },
  {
   "cell_type": "code",
   "execution_count": 6,
   "metadata": {},
   "outputs": [
    {
     "name": "stdout",
     "output_type": "stream",
     "text": [
      "l = [5.05527392e+00 1.20330286e+00 6.81247474e-01 6.86915798e-02\n",
      " 1.88031478e-02 8.16283865e-04 5.35755786e-03] \n",
      "\n"
     ]
    }
   ],
   "source": [
    "def myPCs(X,p):\n",
    "    n, d = X.shape\n",
    "    M = X.mean(axis = 0)\n",
    "    S = np.std(X,axis = 0)\n",
    "    Z = (X - M)/S\n",
    "    Sigma = Z.T.dot(Z)/(n-1)\n",
    "    l, V = np.linalg.eig(Sigma)\n",
    "    print('l =', l, '\\n')\n",
    "    total_sum = np.sum(l)\n",
    "    Vp = V[:,0:p]\n",
    "    \n",
    "    return Z, Vp\n",
    "\n",
    "p = 2\n",
    "Z, Vp = myPCs(X,p)"
   ]
  },
  {
   "cell_type": "code",
   "execution_count": 7,
   "metadata": {},
   "outputs": [
    {
     "name": "stdout",
     "output_type": "stream",
     "text": [
      "Zp.shape = (210, 2) \n",
      "\n",
      "Zp[0:4, :] = [[ 0.31704705 -0.78366902]\n",
      " [-0.00338618 -1.91321367]\n",
      " [-0.45944334 -1.90722525]\n",
      " [-0.59193565 -1.93106922]\n",
      " [ 1.10291005 -2.06809003]] \n",
      "\n"
     ]
    }
   ],
   "source": [
    "\n",
    "Zp = Z.dot(Vp)\n",
    "\n",
    "print('Zp.shape =', Zp.shape, '\\n')\n",
    "print('Zp[0:4, :] =', Zp[:5,:], '\\n')"
   ]
  },
  {
   "cell_type": "code",
   "execution_count": 8,
   "metadata": {},
   "outputs": [
    {
     "name": "stdout",
     "output_type": "stream",
     "text": [
      "Coordinates of initial centroids of clusters: \n",
      "\n",
      "C = [[-1.55784828 -1.88300511]\n",
      " [ 2.76708163  0.79568413]\n",
      " [-1.45963267 -1.75368601]] \n",
      "\n",
      "Randomly selected data points as initial centroids: \n",
      "\n",
      "c0_indx = [ 64  93 199] \n",
      "\n"
     ]
    }
   ],
   "source": [
    "\n",
    "def centroid_init(Z,K):\n",
    "\n",
    "    n, p = Z.shape\n",
    "    c_indx = np.zeros(K, 'int')\n",
    "    \n",
    "    a = 0\n",
    "    b = int(n/K - 1)\n",
    "    \n",
    "    for k in range(0,K):\n",
    "        c_indx[k] = rnd.randint(a,b)\n",
    "        a = b + 1 \n",
    "        b = n * (k + 2)/K - 1\n",
    "        \n",
    "    C = np.zeros((K,d), 'double')\n",
    "    C = Z[c_indx,:]\n",
    "    \n",
    "    return C, c_indx\n",
    "\n",
    "\n",
    "K = 3\n",
    "C, c0_indx = centroid_init(Zp,K)\n",
    "\n",
    "print('Coordinates of initial centroids of clusters:', '\\n')\n",
    "print('C =', C, '\\n')\n",
    "print('Randomly selected data points as initial centroids:', '\\n')\n",
    "print('c0_indx =', c0_indx, '\\n')"
   ]
  },
  {
   "cell_type": "code",
   "execution_count": 13,
   "metadata": {},
   "outputs": [
    {
     "name": "stdout",
     "output_type": "stream",
     "text": [
      "member_iter[:5,0] = [1 1 1 1 1] \n",
      "\n",
      "member_iter[-5:,0] = [3 3 3 3 3] \n",
      "\n"
     ]
    }
   ],
   "source": [
    "\n",
    "def cluster_membership(Z,C):\n",
    "\n",
    "    K = C.shape[0]\n",
    "    n, p = Z.shape\n",
    "    D = np.zeros(K, 'double')\n",
    "    member_iter = np.ones((n,1), 'int')\n",
    "\n",
    "    for i in range(0,n): \n",
    "        for k in range(0,K):\n",
    "            D[k] = np.linalg.norm(C[k,:] - Z[i,:])\n",
    "        member_iter[i,0] = D.argmin() + 1\n",
    "    return member_iter\n",
    "\n",
    "member_iter = cluster_membership(Zp,C)\n",
    "\n",
    "print('member_iter[:5,0] =', member_iter[:5,0], '\\n')\n",
    "print('member_iter[-5:,0] =', member_iter[-5:,0], '\\n')"
   ]
  },
  {
   "cell_type": "code",
   "execution_count": 14,
   "metadata": {},
   "outputs": [
    {
     "name": "stdout",
     "output_type": "stream",
     "text": [
      "C = [[-0.16708661 -1.09332616]\n",
      " [ 2.71694777  0.42326265]\n",
      " [-2.27840583  0.46917101]] \n",
      "\n"
     ]
    }
   ],
   "source": [
    "\n",
    "def centroid_update(Z, member_iter, K):\n",
    "\n",
    "    n, p = Z.shape\n",
    "    C = np.zeros((K, p), 'double')\n",
    "    cluster_index = np.zeros(n, 'bool')\n",
    "\n",
    "    for k in range(0,K):\n",
    "        cluster_index = (member_iter == k+1) \n",
    "        C[k,:] = Z[cluster_index[:,-1],:].mean(axis = 0) \n",
    "        \n",
    "    return C\n",
    "\n",
    "C = centroid_update(Zp,member_iter, 3)\n",
    "print('C =', C, '\\n')"
   ]
  },
  {
   "cell_type": "code",
   "execution_count": 15,
   "metadata": {},
   "outputs": [
    {
     "data": {
      "image/png": "[encoded data removed]",
      "text/plain": [
       "<Figure size 432x288 with 1 Axes>"
      ]
     },
     "metadata": {
      "needs_background": "light"
     },
     "output_type": "display_data"
    }
   ],
   "source": [
    "max_iter = 100\n",
    "K = 3\n",
    "membership = np.ones((n, max_iter)) \n",
    "\n",
    "cluster_index = np.ones((n,K), 'bool')\n",
    "\n",
    "\n",
    "C, c0_indx = centroid_init(Zp, K)\n",
    "j = 1\n",
    "member_change = 1\n",
    "\n",
    "z1 = Zp[:,0]\n",
    "z2 = Zp[:,1]\n",
    "\n",
    "# (8) above:\n",
    "while j < max_iter and member_change > 0: \n",
    "\n",
    "    member_change = 0 # (8A) above\n",
    "    member_iter = cluster_membership(Zp,C)\n",
    "    C = centroid_update(Zp,member_iter, 3)\n",
    "    membership[:,j] = member_iter[:,0]\n",
    "\n",
    "     # (8E) above:\n",
    "    for m in range(0,n):\n",
    "        if membership[m,j] != membership[m,j-1]:\n",
    "            member_change += 1\n",
    "    \n",
    "    plt.figure(1)\n",
    "    plt.clf()\n",
    "\n",
    "    for k in range(0,K):\n",
    "        cluster_index[:,k] = (membership[:,j] == k + 1)\n",
    "        plt.scatter(z1[cluster_index[:,k]],z2[cluster_index[:,k]], linewidths = 2) \n",
    "\n",
    "    plt.scatter(C[:,0], C[:,1], c = 'k', marker = '*', linewidths=3) \n",
    "\n",
    "    outfile = \"frames/clusters_%0.3d.png\" % j \n",
    "    plt.savefig(outfile) \n",
    "\n",
    "    j += 1 "
   ]
  },
  {
   "cell_type": "code",
   "execution_count": null,
   "metadata": {},
   "outputs": [],
   "source": []
  },
  {
   "cell_type": "code",
   "execution_count": null,
   "metadata": {},
   "outputs": [],
   "source": []
  },
  {
   "cell_type": "code",
   "execution_count": null,
   "metadata": {},
   "outputs": [],
   "source": []
  }
 ],
 "metadata": {
  "kernelspec": {
   "display_name": "Python 3",
   "language": "python",
   "name": "python3"
  },
  "language_info": {
   "codemirror_mode": {
    "name": "ipython",
    "version": 3
   },
   "file_extension": ".py",
   "mimetype": "text/x-python",
   "name": "python",
   "nbconvert_exporter": "python",
   "pygments_lexer": "ipython3",
   "version": "3.8.8"
  }
 },
 "nbformat": 4,
 "nbformat_minor": 1
}
